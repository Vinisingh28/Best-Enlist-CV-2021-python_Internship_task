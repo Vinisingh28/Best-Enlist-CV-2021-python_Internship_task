{
  "nbformat": 4,
  "nbformat_minor": 0,
  "metadata": {
    "colab": {
      "name": "Day8.ipynb",
      "provenance": [],
      "collapsed_sections": []
    },
    "kernelspec": {
      "name": "python3",
      "display_name": "Python 3"
    },
    "language_info": {
      "name": "python"
    }
  },
  "cells": [
    {
      "cell_type": "markdown",
      "metadata": {
        "id": "AA4GBDIEHs2N"
      },
      "source": [
        "Day 8\n",
        "#Exercise"
      ]
    },
    {
      "cell_type": "markdown",
      "metadata": {
        "id": "i1qlTVVrIGYW"
      },
      "source": [
        "##• Write a Python script to merge two Python dictionaries"
      ]
    },
    {
      "cell_type": "code",
      "metadata": {
        "colab": {
          "base_uri": "https://localhost:8080/"
        },
        "id": "dMM8UP-zG85F",
        "outputId": "75d3a3a3-7200-4bde-ac6c-a35fcf5ca98b"
      },
      "source": [
        "d1 = {'a': 100, 'b': 200}\n",
        "d2 = {'x': 300, 'y': 200}\n",
        "d = d1.copy()\n",
        "d.update(d2)\n",
        "print(d)"
      ],
      "execution_count": null,
      "outputs": [
        {
          "output_type": "stream",
          "text": [
            "{'a': 100, 'b': 200, 'x': 300, 'y': 200}\n"
          ],
          "name": "stdout"
        }
      ]
    },
    {
      "cell_type": "markdown",
      "metadata": {
        "id": "zToQOA7YIlGi"
      },
      "source": [
        "##• Write a program to sort the value from descending to ascending in list and convert it in to a set."
      ]
    },
    {
      "cell_type": "code",
      "metadata": {
        "colab": {
          "base_uri": "https://localhost:8080/"
        },
        "id": "6SZrQ7cXId-F",
        "outputId": "ec08207f-f2b3-497d-f434-7d35fee8f610"
      },
      "source": [
        "li=[9,8,7,6,5,4,3,2] #list is in descending \n",
        "li.sort()#now list in ascending\n",
        "y=set(li)\n",
        "print(y)\n",
        "type(y)"
      ],
      "execution_count": null,
      "outputs": [
        {
          "output_type": "stream",
          "text": [
            "{2, 3, 4, 5, 6, 7, 8, 9}\n"
          ],
          "name": "stdout"
        },
        {
          "output_type": "execute_result",
          "data": {
            "text/plain": [
              "set"
            ]
          },
          "metadata": {
            "tags": []
          },
          "execution_count": 8
        }
      ]
    },
    {
      "cell_type": "markdown",
      "metadata": {
        "id": "T5NRNv66JuwT"
      },
      "source": [
        "##• Write a Python program to list number of items in a dictionary key and sort the list with the help of a function & without the function.\n"
      ]
    },
    {
      "cell_type": "code",
      "metadata": {
        "colab": {
          "base_uri": "https://localhost:8080/"
        },
        "id": "qsi62xPzI7z8",
        "outputId": "95d6aa5a-a000-4235-c54a-03c4107a5983"
      },
      "source": [
        "d1 = {'a': [100,45,90,67], 'c': [200,60,34,56],'b':[50,23,90,54],'d':[70,56,45,80]}\n",
        "ans={i:sorted(d1[i]) for i in sorted(d1)}\n",
        "print(ans)"
      ],
      "execution_count": null,
      "outputs": [
        {
          "output_type": "stream",
          "text": [
            "{'a': [45, 67, 90, 100], 'b': [23, 50, 54, 90], 'c': [34, 56, 60, 200], 'd': [45, 56, 70, 80]}\n"
          ],
          "name": "stdout"
        }
      ]
    },
    {
      "cell_type": "code",
      "metadata": {
        "id": "xovyTbG8Js45"
      },
      "source": [
        "def fun(d1):\n",
        "   ans=dict()\n",
        "   for i in sorted(d1):\n",
        "      ans[i]=sorted(d1[i])\n",
        "   return ans"
      ],
      "execution_count": null,
      "outputs": []
    },
    {
      "cell_type": "code",
      "metadata": {
        "colab": {
          "base_uri": "https://localhost:8080/"
        },
        "id": "Cwr-gQWdMdyn",
        "outputId": "649fc51a-b57b-43dc-914a-3587405f23c8"
      },
      "source": [
        "fun(d1)"
      ],
      "execution_count": null,
      "outputs": [
        {
          "output_type": "execute_result",
          "data": {
            "text/plain": [
              "{'a': [45, 67, 90, 100],\n",
              " 'b': [23, 50, 54, 90],\n",
              " 'c': [34, 56, 60, 200],\n",
              " 'd': [45, 56, 70, 80]}"
            ]
          },
          "metadata": {
            "tags": []
          },
          "execution_count": 17
        }
      ]
    },
    {
      "cell_type": "markdown",
      "metadata": {
        "id": "JjsaQkavMztW"
      },
      "source": [
        "## • Write a Python program to get a string from a given string (user input) and change the first occurrence of the word to a user specified input.\n"
      ]
    },
    {
      "cell_type": "code",
      "metadata": {
        "colab": {
          "base_uri": "https://localhost:8080/"
        },
        "id": "1iimS6mYMmpb",
        "outputId": "36134960-46b8-409c-9925-0e19d1228d4b"
      },
      "source": [
        "s=input(\"Enter a string :\")\n",
        "l=input(\"Enter a letter: \")\n",
        "print(l+s[1:])"
      ],
      "execution_count": null,
      "outputs": [
        {
          "output_type": "stream",
          "text": [
            "Enter a stringHello World\n",
            "Enter a letter: h\n",
            "hello World\n"
          ],
          "name": "stdout"
        }
      ]
    },
    {
      "cell_type": "markdown",
      "metadata": {
        "id": "aaxkv-ktQfQm"
      },
      "source": [
        "##Write a Python program to get a string from a given string where all occurrences of its first char have been changed to capital letter.\n"
      ]
    },
    {
      "cell_type": "code",
      "metadata": {
        "colab": {
          "base_uri": "https://localhost:8080/"
        },
        "id": "c8e2DKcuNRlL",
        "outputId": "83b67d56-f81b-40c7-845f-417efbc53fc6"
      },
      "source": [
        "s=\"hello i am vinita \"\n",
        "print(s.capitalize())"
      ],
      "execution_count": null,
      "outputs": [
        {
          "output_type": "stream",
          "text": [
            "Hello i am vinita \n"
          ],
          "name": "stdout"
        }
      ]
    },
    {
      "cell_type": "markdown",
      "metadata": {
        "id": "eRjb5PsQSJlG"
      },
      "source": [
        "##• Write a Python program to find the repeated items of a list\n"
      ]
    },
    {
      "cell_type": "code",
      "metadata": {
        "colab": {
          "base_uri": "https://localhost:8080/"
        },
        "id": "TKdlVbWcR7u1",
        "outputId": "6f48c82a-2e8b-411c-81af-996a61f5a2cb"
      },
      "source": [
        "from collections import Counter\n",
        "li=[1,1,5,2,3,7,1,3,5,7,8,9]\n",
        "x=Counter(li)\n",
        "new_li=[i for i in x if x[i]>1]\n",
        "print(new_li)"
      ],
      "execution_count": null,
      "outputs": [
        {
          "output_type": "stream",
          "text": [
            "[1, 5, 3, 7]\n"
          ],
          "name": "stdout"
        }
      ]
    },
    {
      "cell_type": "markdown",
      "metadata": {
        "id": "nlrUqWLHTK2j"
      },
      "source": [
        "##Write a Python program to check the sum of three elements and divided by value which is given as an input by the user"
      ]
    },
    {
      "cell_type": "code",
      "metadata": {
        "colab": {
          "base_uri": "https://localhost:8080/"
        },
        "id": "TCoVY-V-S4qQ",
        "outputId": "1d98bfb0-1299-465a-edaa-1c0ef92e5f86"
      },
      "source": [
        "a=int(input(\"Enter first number:\"))\n",
        "b=int(input(\"Enter second number:\"))\n",
        "c=int(input(\"Enter third number:\"))\n",
        "sum=a+b+c\n",
        "print(sum)\n",
        "x=int(input(\"Enter no:\"))\n",
        "print(sum/x)"
      ],
      "execution_count": null,
      "outputs": [
        {
          "output_type": "stream",
          "text": [
            "Enter first number:4\n",
            "Enter second number:5\n",
            "Enter third number:3\n",
            "12\n",
            "Enter no:3\n",
            "4.0\n"
          ],
          "name": "stdout"
        }
      ]
    },
    {
      "cell_type": "markdown",
      "metadata": {
        "id": "kZIIIl5NT9-t"
      },
      "source": [
        "##Write a Python program to find the Mean,median,mode among three given numbers"
      ]
    },
    {
      "cell_type": "code",
      "metadata": {
        "colab": {
          "base_uri": "https://localhost:8080/",
          "height": 0
        },
        "id": "PIaJFxU0T4ch",
        "outputId": "3d96f9e6-5bcf-4429-e139-844239a3c684"
      },
      "source": [
        "# list of elements to calculate mean\n",
        "n_num = [1, 2, 7]\n",
        "n = len(n_num)\n",
        "  \n",
        "get_sum = sum(n_num)\n",
        "mean = get_sum / n\n",
        "  \n",
        "print(\"Mean / Average is: \" + str(mean))\n",
        "\n"
      ],
      "execution_count": 1,
      "outputs": [
        {
          "output_type": "stream",
          "text": [
            "Mean / Average is: 3.3333333333333335\n"
          ],
          "name": "stdout"
        }
      ]
    },
    {
      "cell_type": "code",
      "metadata": {
        "id": "RBaiS-5GUPKA",
        "colab": {
          "base_uri": "https://localhost:8080/",
          "height": 0
        },
        "outputId": "ddb74083-9c24-4b6b-d6bf-8aa0e48a585c"
      },
      "source": [
        "# list of elements to calculate median\n",
        "n_num = [1, 2, 7,8]\n",
        "n = len(n_num)\n",
        "n_num.sort()\n",
        "  \n",
        "if n % 2 == 0:\n",
        "    median=(n_num[n//2]+n_num[n//2-1])/2\n",
        "else:\n",
        "    median = n_num[n//2]\n",
        "print(\"Median is: \" + str(median))"
      ],
      "execution_count": 5,
      "outputs": [
        {
          "output_type": "stream",
          "text": [
            "Median is: 4.5\n"
          ],
          "name": "stdout"
        }
      ]
    },
    {
      "cell_type": "code",
      "metadata": {
        "colab": {
          "base_uri": "https://localhost:8080/",
          "height": 0
        },
        "id": "bBEmWmW082eY",
        "outputId": "c66694a2-ae9c-498b-e50e-2427d563f9b5"
      },
      "source": [
        "from collections import Counter\n",
        "  \n",
        "# list of elements to calculate mode\n",
        "n_num = [1, 2, 7,8,8]\n",
        "n = len(n_num)\n",
        "  \n",
        "data = Counter(n_num)\n",
        "get_mode = dict(data)\n",
        "mode = [k for k, v in get_mode.items() if v == max(list(data.values()))]\n",
        "  \n",
        "if len(mode) == n:\n",
        "    get_mode = \"No mode found\"\n",
        "else:\n",
        "    get_mode = \"Mode is: \" + ', '.join(map(str, mode))\n",
        "      \n",
        "print(get_mode)"
      ],
      "execution_count": 7,
      "outputs": [
        {
          "output_type": "stream",
          "text": [
            "Mode is / are: 8\n"
          ],
          "name": "stdout"
        }
      ]
    },
    {
      "cell_type": "markdown",
      "metadata": {
        "id": "1MF_2nrz_O2h"
      },
      "source": [
        "##• Write a Python program to swap cases of a given string"
      ]
    },
    {
      "cell_type": "code",
      "metadata": {
        "colab": {
          "base_uri": "https://localhost:8080/",
          "height": 0
        },
        "id": "RGGIiI0p-rpf",
        "outputId": "8f703e6f-2474-43bf-8feb-64f0936d24b5"
      },
      "source": [
        "def swap_cases_string(s):\n",
        "   ans_s = \"\"   \n",
        "   for item in s:\n",
        "       if item.isupper():\n",
        "           ans_s += item.lower()\n",
        "       else:\n",
        "           ans_s += item.upper()           \n",
        "   return ans_s\n",
        "print(swap_cases_string(\"Hello Vinita\"))"
      ],
      "execution_count": 9,
      "outputs": [
        {
          "output_type": "stream",
          "text": [
            "hELLO vINITA\n"
          ],
          "name": "stdout"
        }
      ]
    },
    {
      "cell_type": "markdown",
      "metadata": {
        "id": "MKYCbKpWAXZp"
      },
      "source": [
        "##• Write a program to convert an integer to binary & octa decimal"
      ]
    },
    {
      "cell_type": "code",
      "metadata": {
        "colab": {
          "base_uri": "https://localhost:8080/",
          "height": 0
        },
        "id": "rc1N_yrLAJp2",
        "outputId": "7343b914-f9ba-4707-fa28-f4363c74a002"
      },
      "source": [
        "def integer_to_octal(num):\n",
        "    x=str(oct(num))\n",
        "    print(int(x[2::]))\n",
        "x=integer_to_octal(9)\n",
        "x\n",
        "      "
      ],
      "execution_count": 31,
      "outputs": [
        {
          "output_type": "stream",
          "text": [
            "11\n"
          ],
          "name": "stdout"
        }
      ]
    },
    {
      "cell_type": "code",
      "metadata": {
        "colab": {
          "base_uri": "https://localhost:8080/",
          "height": 0
        },
        "id": "_gwMlxQABw8z",
        "outputId": "8fc97b2b-6b84-4271-bf6b-db80606d1248"
      },
      "source": [
        "def integer_to_binary(num):\n",
        "     x=str(bin(num))\n",
        "     print(int(x[2::]))\n",
        "integer_to_binary(10)"
      ],
      "execution_count": 32,
      "outputs": [
        {
          "output_type": "stream",
          "text": [
            "1010\n"
          ],
          "name": "stdout"
        }
      ]
    },
    {
      "cell_type": "code",
      "metadata": {
        "id": "vuCR7BhJCxa2"
      },
      "source": [
        ""
      ],
      "execution_count": null,
      "outputs": []
    }
  ]
}