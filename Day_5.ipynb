{
  "nbformat": 4,
  "nbformat_minor": 0,
  "metadata": {
    "colab": {
      "name": "Day 5.ipynb",
      "provenance": []
    },
    "kernelspec": {
      "name": "python3",
      "display_name": "Python 3"
    },
    "language_info": {
      "name": "python"
    }
  },
  "cells": [
    {
      "cell_type": "markdown",
      "metadata": {
        "id": "jCxmNWEFk1Cj"
      },
      "source": [
        "Name:Vinita Singh"
      ]
    },
    {
      "cell_type": "markdown",
      "metadata": {
        "id": "7bEzrCMVk9-B"
      },
      "source": [
        "# Exercise:\n",
        "1)\tWrite a program to create a list of n integer values and do the following\n"
      ]
    },
    {
      "cell_type": "markdown",
      "metadata": {
        "id": "HtVoY9ePlKEq"
      },
      "source": [
        "•\tAdd an item in to the list (using function)"
      ]
    },
    {
      "cell_type": "code",
      "metadata": {
        "colab": {
          "base_uri": "https://localhost:8080/"
        },
        "id": "zGVqffFdj-ZV",
        "outputId": "3c022f98-9c7f-45d6-d39c-489c6c187733"
      },
      "source": [
        "li=[1,2,4,7,9]\n",
        "li.append(5)\n",
        "print(li)"
      ],
      "execution_count": 2,
      "outputs": [
        {
          "output_type": "stream",
          "text": [
            "[1, 2, 4, 7, 9, 5]\n"
          ],
          "name": "stdout"
        }
      ]
    },
    {
      "cell_type": "markdown",
      "metadata": {
        "id": "FnpVPESol6BY"
      },
      "source": [
        "Delete (using function)"
      ]
    },
    {
      "cell_type": "code",
      "metadata": {
        "colab": {
          "base_uri": "https://localhost:8080/"
        },
        "id": "D_DDrr48lwwr",
        "outputId": "d3a53260-419f-415f-ea54-a42d7a14d66c"
      },
      "source": [
        "li.pop(2)\n",
        "#list after deleting item at index 2\n",
        "print(li)"
      ],
      "execution_count": 3,
      "outputs": [
        {
          "output_type": "stream",
          "text": [
            "[1, 2, 7, 9, 5]\n"
          ],
          "name": "stdout"
        }
      ]
    },
    {
      "cell_type": "markdown",
      "metadata": {
        "id": "gMnNHsLFmdtI"
      },
      "source": [
        "•\tStore the largest number from the list to a variable"
      ]
    },
    {
      "cell_type": "code",
      "metadata": {
        "colab": {
          "base_uri": "https://localhost:8080/"
        },
        "id": "ZxFIyiZwlWec",
        "outputId": "8c604c81-2f30-4da5-f54d-7bb97b34de41"
      },
      "source": [
        "li=[1,3,6,8,4,9]\n",
        "x=max(li) #Largest element of li\n",
        "print(x)"
      ],
      "execution_count": 6,
      "outputs": [
        {
          "output_type": "stream",
          "text": [
            "9\n"
          ],
          "name": "stdout"
        }
      ]
    },
    {
      "cell_type": "markdown",
      "metadata": {
        "id": "9ARQZWKVmuu6"
      },
      "source": [
        "Store the Smallest number from the list to a variable\n"
      ]
    },
    {
      "cell_type": "code",
      "metadata": {
        "colab": {
          "base_uri": "https://localhost:8080/"
        },
        "id": "dXFBHhFnmQZo",
        "outputId": "852ac0de-9fcf-497f-f88a-cf5f14e2035e"
      },
      "source": [
        "li=[1,3,6,8,4,9]\n",
        "y=min(li) # smallest element of li\n",
        "print(y)"
      ],
      "execution_count": 7,
      "outputs": [
        {
          "output_type": "stream",
          "text": [
            "1\n"
          ],
          "name": "stdout"
        }
      ]
    },
    {
      "cell_type": "markdown",
      "metadata": {
        "id": "852nBe8On-s9"
      },
      "source": [
        "2) Create a tuple and print the reverse of the created \n",
        "\n"
      ]
    },
    {
      "cell_type": "code",
      "metadata": {
        "colab": {
          "base_uri": "https://localhost:8080/"
        },
        "id": "UQ8fFfxym5wF",
        "outputId": "17d1cd98-a324-4eb0-8da1-61caccc04ccc"
      },
      "source": [
        "x=(1,2,3,4,5,6)\n",
        "y=x[::-1]\n",
        "print(y) # reverse of tuple"
      ],
      "execution_count": 13,
      "outputs": [
        {
          "output_type": "stream",
          "text": [
            "(6, 5, 4, 3, 2, 1)\n"
          ],
          "name": "stdout"
        }
      ]
    },
    {
      "cell_type": "markdown",
      "metadata": {
        "id": "eD6tlyyLo7Hs"
      },
      "source": [
        "     3) Create a tuple and convert tuple into list"
      ]
    },
    {
      "cell_type": "code",
      "metadata": {
        "colab": {
          "base_uri": "https://localhost:8080/"
        },
        "id": "_ahsgLoVoJW-",
        "outputId": "c70778e4-8667-4f4b-b0e3-499c313d9ddf"
      },
      "source": [
        "x=(1,2,3,4,5,6)\n",
        "y=list(x)\n",
        "print(y)"
      ],
      "execution_count": 14,
      "outputs": [
        {
          "output_type": "stream",
          "text": [
            "[1, 2, 3, 4, 5, 6]\n"
          ],
          "name": "stdout"
        }
      ]
    },
    {
      "cell_type": "code",
      "metadata": {
        "id": "MUV_2yeFpEak"
      },
      "source": [
        ""
      ],
      "execution_count": null,
      "outputs": []
    }
  ]
}