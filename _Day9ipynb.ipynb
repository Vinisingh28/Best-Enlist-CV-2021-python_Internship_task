{
  "nbformat": 4,
  "nbformat_minor": 0,
  "metadata": {
    "colab": {
      "name": ".Day9ipynb",
      "provenance": []
    },
    "kernelspec": {
      "name": "python3",
      "display_name": "Python 3"
    },
    "language_info": {
      "name": "python"
    }
  },
  "cells": [
    {
      "cell_type": "markdown",
      "metadata": {
        "id": "wYCsyvLgnKe9"
      },
      "source": [
        "##\tDay 9 – Exercises"
      ]
    },
    {
      "cell_type": "markdown",
      "metadata": {
        "id": "fXvcccS3nQ26"
      },
      "source": [
        "##•\tWrite a program to loop through a list of numbers and add +2 to every value to elements in list"
      ]
    },
    {
      "cell_type": "code",
      "metadata": {
        "colab": {
          "base_uri": "https://localhost:8080/"
        },
        "id": "fmb_6WCMlkFK",
        "outputId": "a740f883-c144-4e48-fe60-71b61499edb4"
      },
      "source": [
        "li=[1,2,3,4,5,6,7]\n",
        "for i in range(len(li)):\n",
        "    li[i]=li[i]+2\n",
        "print(li)"
      ],
      "execution_count": 1,
      "outputs": [
        {
          "output_type": "stream",
          "text": [
            "[3, 4, 5, 6, 7, 8, 9]\n"
          ],
          "name": "stdout"
        }
      ]
    },
    {
      "cell_type": "markdown",
      "metadata": {
        "id": "I23Ejh-Ln1Gb"
      },
      "source": [
        "##•\tWrite a program to get the below pattern\n",
        "54321\n",
        "\n",
        "4321\n",
        "\n",
        "321\n",
        "\n",
        "21\n",
        "\n",
        "1\n"
      ]
    },
    {
      "cell_type": "code",
      "metadata": {
        "colab": {
          "base_uri": "https://localhost:8080/"
        },
        "id": "q-R59ZKgnq5T",
        "outputId": "15cc0c2a-e30b-42d4-bd02-bbfe76259e3e"
      },
      "source": [
        "\n",
        "for i in range(5,0,-1):\n",
        "  for j in range(i,0,-1):\n",
        "     print(j,end='')\n",
        "  print(' ')\n",
        "  \n"
      ],
      "execution_count": 7,
      "outputs": [
        {
          "output_type": "stream",
          "text": [
            "54321 \n",
            "4321 \n",
            "321 \n",
            "21 \n",
            "1 \n"
          ],
          "name": "stdout"
        }
      ]
    },
    {
      "cell_type": "markdown",
      "metadata": {
        "id": "1RWlAPMWpoHA"
      },
      "source": [
        "##•\tPython Program to Print the Fibonacci sequence"
      ]
    },
    {
      "cell_type": "code",
      "metadata": {
        "colab": {
          "base_uri": "https://localhost:8080/"
        },
        "id": "oXFk1PJ0oh1b",
        "outputId": "d467b029-4de8-4511-8fa9-d8bd3ba75683"
      },
      "source": [
        "n=int(input(\"Enter number\"))\n",
        "a=-1\n",
        "b=1\n",
        "for i in range(n):\n",
        "   c=a+b\n",
        "   print(c,end=' ')\n",
        "   a=b\n",
        "   b=c"
      ],
      "execution_count": 10,
      "outputs": [
        {
          "output_type": "stream",
          "text": [
            "Enter number10\n",
            "0 1 1 2 3 5 8 13 21 34 "
          ],
          "name": "stdout"
        }
      ]
    },
    {
      "cell_type": "markdown",
      "metadata": {
        "id": "cPMsd2vjq5jb"
      },
      "source": [
        "##•\tExplain Armstrong number and write a code with a function"
      ]
    },
    {
      "cell_type": "markdown",
      "metadata": {
        "id": "yuW5-U39rNIU"
      },
      "source": [
        "A positive integer is called an Armstrong number of order n if\n",
        "\n",
        "abcd... = an + bn + cn + dn + ...\n",
        "\n",
        "153 = 1*1*1 + 5*5*5 + 3*3*3  // 153 is an Armstrong number."
      ]
    },
    {
      "cell_type": "code",
      "metadata": {
        "colab": {
          "base_uri": "https://localhost:8080/"
        },
        "id": "zyR1nx6bqhJv",
        "outputId": "16a77bb5-76a7-49d8-aafa-d388f9eb44a3"
      },
      "source": [
        "\n",
        "num = int(input(\"Enter a number: \"))\n",
        "def Check_Armstrong(num):\n",
        "     sum = 0\n",
        "     temp = num\n",
        "     while temp > 0:\n",
        "        digit = temp % 10\n",
        "        sum += digit ** 3\n",
        "        temp //= 10\n",
        "     if num == sum:\n",
        "          print(num,\"is an Armstrong number\")\n",
        "     else:\n",
        "          print(num,\"is not an Armstrong number\")\n",
        "Check_Armstrong(num)"
      ],
      "execution_count": 12,
      "outputs": [
        {
          "output_type": "stream",
          "text": [
            "Enter a number: 153\n",
            "153 is an Armstrong number\n"
          ],
          "name": "stdout"
        }
      ]
    },
    {
      "cell_type": "markdown",
      "metadata": {
        "id": "NcjYuqodsDoW"
      },
      "source": [
        "##•\tWrite a program to print the multiplication table of 9"
      ]
    },
    {
      "cell_type": "code",
      "metadata": {
        "colab": {
          "base_uri": "https://localhost:8080/"
        },
        "id": "yK9qsn-vr7E5",
        "outputId": "09bef95d-cff1-4034-9bb6-041254806f40"
      },
      "source": [
        "num=9\n",
        "for i in range(1,11):\n",
        "   print(num,\"*\",i,\"=\",num*i)"
      ],
      "execution_count": 13,
      "outputs": [
        {
          "output_type": "stream",
          "text": [
            "9 * 1 = 9\n",
            "9 * 2 = 18\n",
            "9 * 3 = 27\n",
            "9 * 4 = 36\n",
            "9 * 5 = 45\n",
            "9 * 6 = 54\n",
            "9 * 7 = 63\n",
            "9 * 8 = 72\n",
            "9 * 9 = 81\n",
            "9 * 10 = 90\n"
          ],
          "name": "stdout"
        }
      ]
    },
    {
      "cell_type": "markdown",
      "metadata": {
        "id": "kC4VIU3GslbR"
      },
      "source": [
        "##•\tCheck if a program is negative or positive"
      ]
    },
    {
      "cell_type": "code",
      "metadata": {
        "colab": {
          "base_uri": "https://localhost:8080/"
        },
        "id": "e0o_TeN2silG",
        "outputId": "64e216b7-4007-47b0-a7f9-4add4fffd263"
      },
      "source": [
        "num = int(input(\"Enter a number: \"))\n",
        "def check_pos_and_neg(num):\n",
        "     if num>=0:\n",
        "          print(num,\"is positive\")\n",
        "     else:\n",
        "          print(num,\"is negative\")\n",
        "check_pos_and_neg(num)\n"
      ],
      "execution_count": 17,
      "outputs": [
        {
          "output_type": "stream",
          "text": [
            "Enter a number: 12\n",
            "12 is positive\n"
          ],
          "name": "stdout"
        }
      ]
    },
    {
      "cell_type": "code",
      "metadata": {
        "colab": {
          "base_uri": "https://localhost:8080/"
        },
        "id": "tDTNQ0s5tK70",
        "outputId": "109e9909-4741-40fc-9a03-0785d3ccee73"
      },
      "source": [
        "num = int(input(\"Enter a number: \"))\n",
        "check_pos_and_neg(num)"
      ],
      "execution_count": 18,
      "outputs": [
        {
          "output_type": "stream",
          "text": [
            "Enter a number: -8\n",
            "-8 is negative\n"
          ],
          "name": "stdout"
        }
      ]
    },
    {
      "cell_type": "markdown",
      "metadata": {
        "id": "K7rldwfTto9d"
      },
      "source": [
        "##•\tWrite a program to convert the number of days to ages"
      ]
    },
    {
      "cell_type": "code",
      "metadata": {
        "colab": {
          "base_uri": "https://localhost:8080/"
        },
        "id": "pUuIR1xHuDhw",
        "outputId": "996a36b4-542a-455c-e13d-3b147bdae0eb"
      },
      "source": [
        "def convert_days_to_age(days):\n",
        "    year=days/365\n",
        "    print(\"{:.2f}\".format(year),'Years')\n",
        "days=int(input(\"Enter your days :\"))\n",
        "convert_days_to_age(days)"
      ],
      "execution_count": 23,
      "outputs": [
        {
          "output_type": "stream",
          "text": [
            "Enter your days :12060\n",
            "33.04 Years\n"
          ],
          "name": "stdout"
        }
      ]
    },
    {
      "cell_type": "markdown",
      "metadata": {
        "id": "EKwND2nvvQ-g"
      },
      "source": [
        "##•\tSolve Trigonometry problem using math function write a program to solve using math function"
      ]
    },
    {
      "cell_type": "code",
      "metadata": {
        "colab": {
          "base_uri": "https://localhost:8080/"
        },
        "id": "4O7vzw8Ltl-y",
        "outputId": "b4c19db3-405d-4d8c-8d7c-3f0ac17022cd"
      },
      "source": [
        "import math\n",
        "def math_trigo_func(x,num):\n",
        "    if x=='sin':\n",
        "        print(math.sin(num))\n",
        "    elif  x=='cos':\n",
        "        print(math.cos(num))\n",
        "    elif x=='tan':\n",
        "        print(math.tan(num))\n",
        "    elif x=='sec':\n",
        "        print(math.sec(num))\n",
        "    elif x=='cosine':\n",
        "        print(math.cosine(num))\n",
        "    elif x=='cosec':\n",
        "        print(math.cosec(num))\n",
        "x=input(\"Enter trigo function name :\")\n",
        "num=int(input(\"Enter angle: \"))\n",
        "math_trigo_func(x,num)"
      ],
      "execution_count": 25,
      "outputs": [
        {
          "output_type": "stream",
          "text": [
            "Enter trigo function name :sin\n",
            "Enter angle: 90\n",
            "0.8939966636005579\n"
          ],
          "name": "stdout"
        }
      ]
    },
    {
      "cell_type": "code",
      "metadata": {
        "colab": {
          "base_uri": "https://localhost:8080/"
        },
        "id": "wZta4cwr08tX",
        "outputId": "6c27dfbd-aa86-46c6-b7a2-5a71e67c133a"
      },
      "source": [
        "math_trigo_func('cos',90)"
      ],
      "execution_count": 26,
      "outputs": [
        {
          "output_type": "stream",
          "text": [
            "-0.4480736161291701\n"
          ],
          "name": "stdout"
        }
      ]
    },
    {
      "cell_type": "markdown",
      "metadata": {
        "id": "XeUxdjZ11TZp"
      },
      "source": [
        "##•\tCreate a calculator only on a code level by using if condition (Basic arithmetic calculation)"
      ]
    },
    {
      "cell_type": "code",
      "metadata": {
        "colab": {
          "base_uri": "https://localhost:8080/"
        },
        "id": "bhHOptI71N-4",
        "outputId": "1be6df5f-0ece-4d08-d37d-f75099733e36"
      },
      "source": [
        "print(\"Calculator\")\n",
        "print(\"1.Add\")\n",
        "print(\"2.Substract\")\n",
        "print(\"3.Multiply\")\n",
        "print(\"4.Divide\")\n",
        "\n",
        "# input choice\n",
        "ch=int(input(\"Enter Choice(1-4): \"))\n",
        "\n",
        "if ch==1:\n",
        "    a=int(input(\"Enter A:\"))\n",
        "    b=int(input(\"Enter B:\"))\n",
        "    c=a+b\n",
        "    print(\"Sum = \",c)\n",
        "elif ch==2:\n",
        "    a=int(input(\"Enter A:\"))\n",
        "    b=int(input(\"Enter B:\"))\n",
        "    c=a-b\n",
        "    print(\"Difference = \",c)\n",
        "elif  ch==3:\n",
        "    a=int(input(\"Enter A:\"))\n",
        "    b=int(input(\"Enter B:\"))\n",
        "    c=a*b\n",
        "    print(\"Product = \",c)\n",
        "elif ch==4:\n",
        "    a=int(input(\"Enter A:\"))\n",
        "    b=int(input(\"Enter B:\"))\n",
        "    c=a/b\n",
        "    print(\"Quotient = \",c)\n",
        "else:\n",
        "    print(\"Invalid Choice\")"
      ],
      "execution_count": 27,
      "outputs": [
        {
          "output_type": "stream",
          "text": [
            "Calculator\n",
            "1.Add\n",
            "2.Substract\n",
            "3.Multiply\n",
            "4.Divide\n",
            "Enter Choice(1-4): 3\n",
            "Enter A:6\n",
            "Enter B:9\n",
            "Product =  54\n"
          ],
          "name": "stdout"
        }
      ]
    },
    {
      "cell_type": "code",
      "metadata": {
        "id": "z1-CleRL1uz6"
      },
      "source": [
        ""
      ],
      "execution_count": null,
      "outputs": []
    }
  ]
}