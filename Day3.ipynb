{
 "cells": [
  {
   "cell_type": "markdown",
   "metadata": {},
   "source": [
    "## Day 3 – Python Programming - Simple Registration form"
   ]
  },
  {
   "cell_type": "code",
   "execution_count": 9,
   "metadata": {},
   "outputs": [],
   "source": [
    "#importing library\n",
    "from tkinter import *\n",
    "from tkinter import ttk\n",
    "\n",
    "window = Tk()\n",
    "#Declaring Window Title\n",
    "window.title(\"Registration Screen\")\n",
    "#Declaring Window size\n",
    "window.geometry('300x300')\n",
    "#Declaring Window Color\n",
    "window.configure(background = \"green\");\n",
    "#below four fields are declared\n",
    "Firstname = Label(window ,text = \"First Name\").grid(row = 0,column = 0)\n",
    "LastName = Label(window ,text = \"Last Name\").grid(row = 1,column = 0)\n",
    "Email = Label(window ,text = \"Email Id\").grid(row = 2,column = 0)\n",
    "Mobile = Label(window ,text = \"Contact Number\").grid(row = 3,column = 0)\n",
    "\n",
    "Firstname1 = Entry(window).grid(row = 0,column = 1)\n",
    "Lastname1 = Entry(window).grid(row = 1,column = 1)\n",
    "Email1 = Entry(window).grid(row = 2,column = 1)\n",
    "Mobile1 = Entry(window).grid(row = 3,column = 1)\n",
    "\n",
    "#fubction declaration\n",
    "def clicked():\n",
    "    \n",
    "    res = \"Welcome to \" + txt.get()\n",
    "    lbl.configure(text= res)\n",
    "btn = ttk.Button(window ,text=\"Submit\").grid(row=4,column=0)\n",
    "\n",
    "window.mainloop()"
   ]
  },
  {
   "cell_type": "markdown",
   "metadata": {},
   "source": [
    "## ------- Task to be done------------------\n",
    "\n",
    "\n",
    "Make ten fields such as employee name, employee id, anything u like but implement ten fields.\n",
    "Try to implement radio button, drop down.\n",
    "Try to change color, size of window etc.\n"
   ]
  },
  {
   "cell_type": "code",
   "execution_count": 56,
   "metadata": {},
   "outputs": [],
   "source": [
    "from tkinter import *\n",
    "from tkinter import ttk\n",
    "screen = Tk()\n",
    "import tkinter.messagebox\n",
    "#Declaring Window Title\n",
    "screen.title(\"Employee Registration form\")\n",
    "#Declaring Window size\n",
    "screen.configure(bg='black')\n",
    "screen.geometry('700x400')\n",
    "\n",
    "head1=Label(screen ,text= \"Employee Registration Form \", font=(\"bold\", 20)).grid(row =0, column=2)\n",
    "\n",
    "FirstName= Label(screen,font=('arial',10,' bold'),width=20,text = \"FirstName\").grid(row = 1,column = 1)\n",
    "LastName = Label(screen,font=('arial',10,'bold'),width=20,text = \"LastName\").grid(row = 2,column = 1)\n",
    "IdNO = Label(screen,font=('arial',10,'bold'),width=20,text = \"IdNo\").grid(row = 3,column = 1)\n",
    "Mobile = Label(screen,font=('arial',10,' bold'),width=20,text = \"MobileNo\").grid(row = 4,column = 1)\n",
    "Email= Label(screen,font=('arial',10,' bold'),width=20,text = \"Email Id\").grid(row = 5,column = 1)\n",
    "Address=Label(screen,font=('arial',10,'bold'),width=20,text = \"Address\").grid(row = 6,column = 1)\n",
    "City=Label(screen,font=('arial',10,'bold'),width=20,text = \"City\").grid(row = 7,column = 1)\n",
    "State=Label(screen,font=('arial',10,'bold'),width=20,text = 'State').grid(row = 8,column = 1)\n",
    "Country=Label(screen,font=('arial',10,'bold'),width=20,text = \"Country\").grid(row = 9,column = 1)\n",
    "\n",
    "list1 = ['Canada','India','UK','Nepal','Iceland','South Africa'];\n",
    "a=StringVar()\n",
    "droplist=OptionMenu(screen,a, *list1)\n",
    "droplist.config(width=15)\n",
    "a.set('select your country')\n",
    "droplist.grid(row = 9,column = 2)\n",
    "\n",
    "Gender =Label(screen ,font=('arial',10,'bold'),text = \"Gender\",width=20).grid(row = 10,column = 1)\n",
    "var = IntVar()\n",
    "Radiobutton(screen,width=12,text=\"Male\",padx = 30, variable=var, value=1).grid(row = 10,column = 2)\n",
    "Radiobutton(screen, width=12,text=\"Female\",padx = 20, variable=var, value=2).grid(row = 10,column = 3)\n",
    "DOB=Label(screen ,text = \"Date Of Birth\",width=20,font=(\"bold\", 10)).grid(row = 11,column = 1)\n",
    "\n",
    "label_12 = Label(screen, text=\"Programming\",width=20,font=(\"bold\", 10))\n",
    "label_12.grid(row = 12,column = 1)\n",
    "var1 = IntVar()\n",
    "Checkbutton(screen, text=\"java\", variable=var1).grid(row = 12,column = 2)\n",
    "var2 = IntVar()\n",
    "Checkbutton(screen, text=\"python\", variable=var2).grid(row = 12,column = 3)\n",
    "\n",
    "Firstname1 = Entry(screen).grid(row = 1,column = 2)\n",
    "Lastname1 = Entry(screen).grid(row = 2,column = 2)\n",
    "IdNo1 = Entry(screen).grid(row = 3,column = 2)\n",
    "Mobile1 = Entry(screen).grid(row = 4,column = 2)\n",
    "Email1 = Entry(screen).grid(row = 5,column = 2)\n",
    "Address1 = Entry(screen).grid(row = 6,column = 2)\n",
    "City1 = Entry(screen).grid(row = 7,column = 2)\n",
    "State1 = Entry(screen).grid(row = 8,column = 2)\n",
    "DOB1 = Entry(screen).grid(row = 11,column = 2)\n",
    "\n",
    "Button(screen, text=\"Submit\", command=onClick,width=20,bg='brown',fg='white').grid(row = 14,column = 2)\n",
    "\n",
    "def onClick():\n",
    "    tkinter.messagebox.showinfo(\"Welcome\", \"Yor Data Added Successfully!\")\n",
    "\n",
    "screen.mainloop()"
   ]
  },
  {
   "cell_type": "code",
   "execution_count": null,
   "metadata": {},
   "outputs": [],
   "source": []
  },
  {
   "cell_type": "code",
   "execution_count": null,
   "metadata": {},
   "outputs": [],
   "source": []
  },
  {
   "cell_type": "code",
   "execution_count": null,
   "metadata": {},
   "outputs": [],
   "source": []
  }
 ],
 "metadata": {
  "kernelspec": {
   "display_name": "Python 3",
   "language": "python",
   "name": "python3"
  },
  "language_info": {
   "codemirror_mode": {
    "name": "ipython",
    "version": 3
   },
   "file_extension": ".py",
   "mimetype": "text/x-python",
   "name": "python",
   "nbconvert_exporter": "python",
   "pygments_lexer": "ipython3",
   "version": "3.7.6"
  }
 },
 "nbformat": 4,
 "nbformat_minor": 4
}
