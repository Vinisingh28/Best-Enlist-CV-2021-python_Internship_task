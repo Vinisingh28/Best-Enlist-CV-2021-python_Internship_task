{
  "nbformat": 4,
  "nbformat_minor": 0,
  "metadata": {
    "colab": {
      "name": "Day6.ipynb",
      "provenance": []
    },
    "kernelspec": {
      "name": "python3",
      "display_name": "Python 3"
    },
    "language_info": {
      "name": "python"
    }
  },
  "cells": [
    {
      "cell_type": "markdown",
      "metadata": {
        "id": "P5Akcnt0sXk3"
      },
      "source": [
        "#Exercise\n"
      ]
    },
    {
      "cell_type": "markdown",
      "metadata": {
        "id": "dW2CDqNHsiBI"
      },
      "source": [
        "Write a Python script to merge two python dictionaries"
      ]
    },
    {
      "cell_type": "code",
      "metadata": {
        "colab": {
          "base_uri": "https://localhost:8080/"
        },
        "id": "y2Ikn2JPsR4K",
        "outputId": "66bba119-96e8-4481-c931-70b36fdfaefc"
      },
      "source": [
        "x={'a':'apple','b':'boy','c':'cat','d':'dog'}\n",
        "y={'e':'eagle','f':'frog','g':'goat'}\n",
        "x.update(y)\n",
        "print(x)"
      ],
      "execution_count": 4,
      "outputs": [
        {
          "output_type": "stream",
          "text": [
            "{'a': 'apple', 'b': 'boy', 'c': 'cat', 'd': 'dog', 'e': 'eagle', 'f': 'frog', 'g': 'goat'}\n"
          ],
          "name": "stdout"
        }
      ]
    },
    {
      "cell_type": "markdown",
      "metadata": {
        "id": "cwIVienitod_"
      },
      "source": [
        "Write a python program to remove a key from dictionary"
      ]
    },
    {
      "cell_type": "code",
      "metadata": {
        "colab": {
          "base_uri": "https://localhost:8080/"
        },
        "id": "6f6uzBtOtj61",
        "outputId": "bf6cede0-1526-463c-cc40-20ed1424c99e"
      },
      "source": [
        "x={'a':'apple','b':'boy','c':'cat','d':'dog'}\n",
        "x.pop('b')\n",
        "print('After remove a key',x)\n"
      ],
      "execution_count": 8,
      "outputs": [
        {
          "output_type": "stream",
          "text": [
            "After remove a key {'a': 'apple', 'c': 'cat', 'd': 'dog'}\n"
          ],
          "name": "stdout"
        }
      ]
    },
    {
      "cell_type": "markdown",
      "metadata": {
        "id": "-9hz8WW4vMHF"
      },
      "source": [
        "Write a python program to map two lists into a dictionary"
      ]
    },
    {
      "cell_type": "code",
      "metadata": {
        "colab": {
          "base_uri": "https://localhost:8080/"
        },
        "id": "ImkzoAhku0uW",
        "outputId": "c2180d2a-9981-4e73-a871-6d6d19da85db"
      },
      "source": [
        "states=['Jharkhand','Bihar','UP','MP']\n",
        "capitals=['Ranchi','Patna','Lucknow','Bhopal']\n",
        "state_capital=dict(zip(states,capitals))\n",
        "print(state_capital)"
      ],
      "execution_count": 10,
      "outputs": [
        {
          "output_type": "stream",
          "text": [
            "{'Jharkhand': 'Ranchi', 'Bihar': 'Patna', 'UP': 'Lucknow', 'MP': 'Bhopal'}\n"
          ],
          "name": "stdout"
        }
      ]
    },
    {
      "cell_type": "markdown",
      "metadata": {
        "id": "riQMVcwpwprv"
      },
      "source": [
        "Write a python program to find a length of set"
      ]
    },
    {
      "cell_type": "code",
      "metadata": {
        "colab": {
          "base_uri": "https://localhost:8080/"
        },
        "id": "GX9WOg91wZcK",
        "outputId": "99777388-d1c3-4c4b-e6f9-49afe3313c7c"
      },
      "source": [
        "states=('Jharkhand','Bihar','UP','MP')\n",
        "print(len(states))"
      ],
      "execution_count": 11,
      "outputs": [
        {
          "output_type": "stream",
          "text": [
            "4\n"
          ],
          "name": "stdout"
        }
      ]
    },
    {
      "cell_type": "markdown",
      "metadata": {
        "id": "Ujf_r7s-xDHK"
      },
      "source": [
        "Write a python program to remove the intersection of a 2nd set from the 1st set"
      ]
    },
    {
      "cell_type": "code",
      "metadata": {
        "colab": {
          "base_uri": "https://localhost:8080/"
        },
        "id": "DbiYGK71w5yG",
        "outputId": "80c86641-d6a9-4ff2-88c6-c4f7068c522e"
      },
      "source": [
        "sn1 = {1,2,3,4,5}\n",
        "sn2 = {4,5,6,7,8}\n",
        "print(\"Original sets:\")\n",
        "print(sn1)\n",
        "print(sn2)\n",
        "print(\"\\nRemove the intersection of a 2nd set from the 1st set using difference_update():\")\n",
        "sn1.difference_update(sn2)\n",
        "print(\"sn1: \",sn1)\n",
        "print(\"sn2: \",sn2)"
      ],
      "execution_count": 12,
      "outputs": [
        {
          "output_type": "stream",
          "text": [
            "Original sets:\n",
            "{1, 2, 3, 4, 5}\n",
            "{4, 5, 6, 7, 8}\n",
            "\n",
            "Remove the intersection of a 2nd set from the 1st set using difference_update():\n",
            "sn1:  {1, 2, 3}\n",
            "sn2:  {4, 5, 6, 7, 8}\n"
          ],
          "name": "stdout"
        }
      ]
    },
    {
      "cell_type": "code",
      "metadata": {
        "id": "dbWg-jXGxtje"
      },
      "source": [
        ""
      ],
      "execution_count": null,
      "outputs": []
    }
  ]
}